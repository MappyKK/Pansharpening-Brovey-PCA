{
  "cells": [
    {
      "cell_type": "code",
      "execution_count": null,
      "metadata": {
        "colab": {
          "base_uri": "https://localhost:8080/"
        },
        "id": "Xo1kbfr8Ggsx",
        "outputId": "b8712b22-9870-4ce9-d823-ac7f41c11f5d"
      },
      "outputs": [],
      "source": [
        "from google.colab import drive\n",
        "drive.mount('/content/drive')"
      ]
    },
    {
      "cell_type": "code",
      "execution_count": null,
      "metadata": {
        "id": "WqWv56uFG3RL"
      },
      "outputs": [],
      "source": [
        "# Importing libraries\n",
        "import os\n",
        "from osgeo import gdal, gdalconst\n",
        "import numpy as np\n",
        "import matplotlib.pyplot as plt"
      ]
    },
    {
      "cell_type": "code",
      "execution_count": null,
      "metadata": {
        "id": "JQTit3koHALW"
      },
      "outputs": [],
      "source": [
        "path_to_landsat_data = '/content/drive/MyDrive/Project Geog371/landsat_data'"
      ]
    },
    {
      "cell_type": "code",
      "execution_count": null,
      "metadata": {
        "id": "w5ixjImEHOws"
      },
      "outputs": [],
      "source": [
        "landsat_id = 'LC09_L1TP_015034_20241105_20241105_02_T1'"
      ]
    },
    {
      "cell_type": "markdown",
      "metadata": {
        "id": "2dk4_8bmJsDp"
      },
      "source": [
        "TOA Reflectance "
      ]
    },
    {
      "cell_type": "code",
      "execution_count": null,
      "metadata": {
        "colab": {
          "base_uri": "https://localhost:8080/",
          "height": 219
        },
        "id": "hXLcQ_3VHNt-",
        "outputId": "a16db8bd-e379-4dcf-8344-cd90a2974380"
      },
      "outputs": [],
      "source": [
        "# This is an example how to convert DN for band 2 to TOA reflectance\n",
        "band = 'B8'\n",
        "\n",
        "print(f'Processing band {band} for Landsat scene {landsat_id}')\n",
        "# First, read Landsat metadata: sun elevation angle and MULT/ADD for the band\n",
        "fname_meta_landsat = f'{landsat_id}_MTL.txt'\n",
        "fmeta_landsat = open(os.path.join(path_to_landsat_data, fname_meta_landsat), 'r')\n",
        "tmp = fmeta_landsat.read()\n",
        "\n",
        "# Searching sun zenith angle\n",
        "param = 'SUN_ELEVATION'\n",
        "i = tmp.find(f'{param} = ') + len(f'{param} = ')\n",
        "SUN_ELEVATION = float(tmp[i:i+11])\n",
        "print(f'SUN_ELEVATION={SUN_ELEVATION}')\n",
        "\n",
        "# MULT/ADD params\n",
        "param = f'REFLECTANCE_MULT_BAND_{band[1]}'\n",
        "i = tmp.find(f'{param} = ') + len(f'{param} = ')\n",
        "REFLECTANCE_MULT_BAND = float(tmp[i:i+11])\n",
        "print(f'REFLECTANCE_MULT_BAND={REFLECTANCE_MULT_BAND}')\n",
        "\n",
        "param = f'REFLECTANCE_ADD_BAND_{band[1]}'\n",
        "i = tmp.find(f'{param} = ') + len(f'{param} = ')\n",
        "REFLECTANCE_ADD_BAND = float(tmp[i:i+11])\n",
        "print(f'REFLECTANCE_ADD_BAND={REFLECTANCE_ADD_BAND}')\n",
        "\n",
        "# Reading raster data corresponding to the band\n",
        "fname_band = f'{landsat_id}_{band}.TIF'\n",
        "# Read the raster file with band 2 as an instance of the Dataset class\n",
        "in_dataset = gdal.Open(os.path.join(path_to_landsat_data, fname_band))\n",
        "# Gets the number of columns\n",
        "x_size = in_dataset.RasterXSize\n",
        "# Gets the number of rows\n",
        "y_size = in_dataset.RasterYSize\n",
        "# Gets the projection of the raster in WKT format\n",
        "projection = in_dataset.GetProjectionRef()\n",
        "# Convert pixel coordinates to georeference coordinates\n",
        "geo_transform = in_dataset.GetGeoTransform()\n",
        "# Converts band 1 as numpy array and makes sure that the elements are of float32 format\n",
        "array = np.array(in_dataset.GetRasterBand(1).ReadAsArray()).astype(np.float32)\n",
        "\n",
        "# Writing raster: preparing for writing TOA\n",
        "# What type of file we want to create/write to\n",
        "outfile_driver = gdal.GetDriverByName('GTiff')\n",
        "outfile_name = f'{landsat_id}_{band}_TOA.TIF'\n",
        "# Specifies the data type of the outfile dataset to Int16 which is less expensive in terms of byte storage\n",
        "outfile_dtype = gdalconst.GDT_Int16\n",
        "# Compress the file\n",
        "outfile_options = ['COMPRESS=NONE']\n",
        "# Create the outfile dataset driver with only 1 band\n",
        "outfile_dataset = outfile_driver.Create(os.path.join(path_to_landsat_data, outfile_name), x_size, y_size, 1,\n",
        "                                   outfile_dtype, outfile_options)\n",
        "# Sets the projection using the SetProjection setter with the projection derived from the Getter GetProjectionRef()\n",
        "outfile_dataset.SetProjection(projection)\n",
        "# Sets the Geotransform to the outfile_dataset\n",
        "outfile_dataset.SetGeoTransform(geo_transform)\n",
        "# Applies calibration parameters to the array\n",
        "calibrated_array = array * REFLECTANCE_MULT_BAND + REFLECTANCE_ADD_BAND\n",
        "# Applies the SUN_ELEVATION and converts it radians\n",
        "calibrated_array = calibrated_array / np.sin(SUN_ELEVATION * np.pi / 180.)\n",
        "# TOA reflectance values range from 0 - 1 but we scale this value by 10000 to save space since we wont have to store decimal values\n",
        "calibrated_array = 10000 * calibrated_array\n",
        "# Everywhere where the input is 0 assign to -9999 since 0 is a no data value and not a pixel with the 0 value and everything else is just the values in the calibrated array\n",
        "calibrated_array = np.where(array == 0, -9999, calibrated_array)\n",
        "# Write the array to the outfile dataset\n",
        "outfile_dataset.GetRasterBand(1).WriteArray(calibrated_array)\n",
        "# Set the outfile no data values\n",
        "outfile_dataset.GetRasterBand(1).SetNoDataValue(-9999)\n",
        "\n",
        "outfile_dataset = None\n",
        "in_dataset = None\n",
        "\n",
        "print(f'Processing complete!')"
      ]
    },
    {
      "cell_type": "markdown",
      "metadata": {
        "id": "n3N7-JMbiq7H"
      },
      "source": [
        "GET SHAPE OF TOA files"
      ]
    },
    {
      "cell_type": "code",
      "execution_count": null,
      "metadata": {
        "colab": {
          "base_uri": "https://localhost:8080/"
        },
        "id": "9zh1Y276iZec",
        "outputId": "42eabcad-dd48-4623-99fc-53100429a226"
      },
      "outputs": [],
      "source": [
        "# Function to get the shape of a band in a TIFF file\n",
        "def get_band_shape(file_path):\n",
        "    dataset = gdal.Open(file_path)\n",
        "    x_size = dataset.RasterXSize\n",
        "    y_size = dataset.RasterYSize\n",
        "    dataset = None\n",
        "    return (y_size, x_size)\n",
        "\n",
        "# File paths for the original TOA TIFF files\n",
        "original_files = [\n",
        "    '/content/drive/MyDrive/geog371shared/Data/LC09_L1TP_015034_20241105_20241105_02_T1_B2_TOA.TIF',\n",
        "    '/content/drive/MyDrive/geog371shared/Data/LC09_L1TP_015034_20241105_20241105_02_T1_B3_TOA.TIF',\n",
        "    '/content/drive/MyDrive/geog371shared/Data/LC09_L1TP_015034_20241105_20241105_02_T1_B4_TOA.TIF',\n",
        "    '/content/drive/MyDrive/geog371shared/Data/LC09_L1TP_015034_20241105_20241105_02_T1_B8_TOA.TIF'\n",
        "]\n",
        "\n",
        "# Get and print the shapes of the original TOA TIFF files\n",
        "for file_path in original_files:\n",
        "    shape = get_band_shape(file_path)\n",
        "    print(f\"Shape of {file_path}: {shape}\")"
      ]
    },
    {
      "cell_type": "markdown",
      "metadata": {
        "id": "bUONka4DR-zM"
      },
      "source": [
        "RESAMPLE "
      ]
    },
    {
      "cell_type": "code",
      "execution_count": null,
      "metadata": {
        "colab": {
          "base_uri": "https://localhost:8080/"
        },
        "id": "_rOOl25mR-GS",
        "outputId": "e0ec9714-e6b7-4267-ae4b-041ae97f3280"
      },
      "outputs": [],
      "source": [
        "# Function to resample a band to a target resolution\n",
        "def resample_band(input_file, output_file, target_resolution):\n",
        "    # Open the input dataset\n",
        "    input_dataset = gdal.Open(input_file)\n",
        "\n",
        "    # Get the original geotransform\n",
        "    original_geo_transform = input_dataset.GetGeoTransform()\n",
        "    original_resolution = (original_geo_transform[1], original_geo_transform[5]) # gets original x and y pixel size\n",
        "\n",
        "    # Get the original dimensions\n",
        "    original_x_size = input_dataset.RasterXSize\n",
        "    original_y_size = input_dataset.RasterYSize\n",
        "\n",
        "    # Calculate the new dimensions based on the target resolution\n",
        "    new_x_size = int(original_x_size * abs(original_resolution[0] / target_resolution))\n",
        "    new_y_size = int(original_y_size * abs(original_resolution[1] / target_resolution))\n",
        "\n",
        "    # Create the output dataset with the new dimensions\n",
        "    driver = gdal.GetDriverByName('GTiff')\n",
        "    output_dataset = driver.Create(output_file, new_x_size, new_y_size, 1, gdal.GDT_Float32)\n",
        "\n",
        "    # Set the new geotransform with the target resolution\n",
        "    new_geo_transform = list(original_geo_transform)\n",
        "    new_geo_transform[1] = target_resolution # changes pixel size in x direction\n",
        "    new_geo_transform[5] = -target_resolution # changes pixel size in y direction\n",
        "    output_dataset.SetGeoTransform(new_geo_transform)\n",
        "\n",
        "    # Set the projection of the output dataset to match the input dataset\n",
        "    output_dataset.SetProjection(input_dataset.GetProjection())\n",
        "\n",
        "    # Perform the resampling using bilinear interpolation\n",
        "    gdal.ReprojectImage(input_dataset, output_dataset, None, None, gdal.GRA_Bilinear)\n",
        "\n",
        "    # Print the shape of the resampled band\n",
        "    print(f\"Shape of resampled band ({input_file}): ({new_y_size}, {new_x_size})\")\n",
        "\n",
        "    # Close the datasets\n",
        "    input_dataset = None\n",
        "    output_dataset = None\n",
        "\n",
        "# File paths for the input and output files\n",
        "input_files = [\n",
        "    '/content/drive/MyDrive/geog371shared/subsets/subset_band2_TOA.tif',\n",
        "    '/content/drive/MyDrive/geog371shared/subsets/subset_band3_TOA.tif',\n",
        "    '/content/drive/MyDrive/geog371shared/subsets/subset_band4_TOA.tif',\n",
        "    '/content/drive/MyDrive/geog371shared/subsets/subset_band8_TOA.tif'\n",
        "]\n",
        "output_files = [\n",
        "    '/content/drive/MyDrive/geog371shared/subsets/resampled/subset_band2_TOA_resampled.TIF',\n",
        "    '/content/drive/MyDrive/geog371shared/subsets/resampled/subset_band3_TOA_resampled.TIF',\n",
        "    '/content/drive/MyDrive/geog371shared/subsets/resampled/subset_band4_TOA_resampled.TIF',\n",
        "    '/content/drive/MyDrive/geog371shared/subsets/resampled/subset_band8_TOA_resampled.TIF'\n",
        "]\n",
        "\n",
        "target_resolution = 15  # Target resolution in meters\n",
        "\n",
        "# Loop through each input file and resample it to the target resolution\n",
        "for input_file, output_file in zip(input_files, output_files):\n",
        "    resample_band(input_file, output_file, target_resolution)\n",
        "\n",
        "print(\"Resampling complete!\")"
      ]
    },
    {
      "cell_type": "markdown",
      "metadata": {
        "id": "MT4fnVdrixsB"
      },
      "source": [
        "GET SHAPE OF RESAMPLED TOA files"
      ]
    },
    {
      "cell_type": "code",
      "execution_count": null,
      "metadata": {
        "colab": {
          "base_uri": "https://localhost:8080/"
        },
        "id": "xOTeIdrXixA_",
        "outputId": "90af8e7a-5693-4713-82c4-ce0bf5643c94"
      },
      "outputs": [],
      "source": [
        "# Function to get the shape of a band in a TIFF file\n",
        "def get_band_shape(file_path):\n",
        "    dataset = gdal.Open(file_path)\n",
        "    x_size = dataset.RasterXSize\n",
        "    y_size = dataset.RasterYSize\n",
        "    dataset = None\n",
        "    return (y_size, x_size)\n",
        "\n",
        "# File paths for the original TOA TIFF files\n",
        "original_files = [\n",
        "    '/content/drive/MyDrive/geog371shared/Data/LC09_L1TP_015034_20241105_20241105_02_T1_B2_TOA_resampled.TIF',\n",
        "    '/content/drive/MyDrive/geog371shared/Data/LC09_L1TP_015034_20241105_20241105_02_T1_B3_TOA_resampled.TIF',\n",
        "    '/content/drive/MyDrive/geog371shared/Data/LC09_L1TP_015034_20241105_20241105_02_T1_B4_TOA_resampled.TIF',\n",
        "    '/content/drive/MyDrive/geog371shared/Data/LC09_L1TP_015034_20241105_20241105_02_T1_B8_TOA.TIF'\n",
        "]\n",
        "\n",
        "# Get and print the shapes of the original TOA TIFF files\n",
        "for file_path in original_files:\n",
        "    shape = get_band_shape(file_path)\n",
        "    print(f\"Shape of {file_path}: {shape}\")"
      ]
    },
    {
      "cell_type": "markdown",
      "metadata": {
        "id": "s8cmCCmYjPPA"
      },
      "source": [
        "CREATE SUBSETS FOR RESAMPLED TOA FILES AND BAND 8"
      ]
    },
    {
      "cell_type": "code",
      "execution_count": null,
      "metadata": {
        "colab": {
          "base_uri": "https://localhost:8080/"
        },
        "id": "bBRUooG2jVJq",
        "outputId": "2e874fc0-766a-4664-d154-d97141f37158"
      },
      "outputs": [],
      "source": [
        "subset_coords = (6000, 6000, 6500, 6500)\n",
        "\n",
        "# Read the resampled TOA reflectance data\n",
        "ds_B2_TOA = gdal.Open('/content/drive/MyDrive/geog371shared/Data/LC09_L1TP_015034_20241105_20241105_02_T1_B2_TOA_resampled.TIF')\n",
        "ds_B3_TOA = gdal.Open('/content/drive/MyDrive/geog371shared/Data/LC09_L1TP_015034_20241105_20241105_02_T1_B3_TOA_resampled.TIF')\n",
        "ds_B4_TOA = gdal.Open('/content/drive/MyDrive/geog371shared/Data/LC09_L1TP_015034_20241105_20241105_02_T1_B4_TOA_resampled.TIF')\n",
        "ds_B8_TOA = gdal.Open('/content/drive/MyDrive/geog371shared/Data/LC09_L1TP_015034_20241105_20241105_02_T1_B8_TOA.TIF')\n",
        "# Convert subset coordinates to pixel coordinates\n",
        "x_offset = subset_coords[0]\n",
        "y_offset = subset_coords[1]\n",
        "x_size = subset_coords[2] - subset_coords[0]\n",
        "y_size = subset_coords[3] - subset_coords[1]\n",
        "\n",
        "# Read the subset data\n",
        "band2 = ds_B2_TOA.GetRasterBand(1).ReadAsArray(x_offset, y_offset, x_size, y_size).astype(np.float32)\n",
        "band3 = ds_B3_TOA.GetRasterBand(1).ReadAsArray(x_offset, y_offset, x_size, y_size).astype(np.float32)\n",
        "band4 = ds_B4_TOA.GetRasterBand(1).ReadAsArray(x_offset, y_offset, x_size, y_size).astype(np.float32)\n",
        "band8 = ds_B8_TOA.GetRasterBand(1).ReadAsArray(x_offset, y_offset, x_size, y_size).astype(np.float32)\n",
        "\n",
        "# Print the shapes of each band\n",
        "print(f\"Shape of band 2: {band2.shape}\")\n",
        "print(f\"Shape of band 3: {band3.shape}\")\n",
        "print(f\"Shape of band 4: {band4.shape}\")\n",
        "print(f\"Shape of band 8: {band8.shape}\")\n",
        "\n",
        "# Create outfile driver\n",
        "driver = gdal.GetDriverByName('GTiff')\n",
        "\n",
        "# Declare outfile parameters\n",
        "xsize = x_size\n",
        "ysize = y_size\n",
        "gdal_type = gdal.GDT_Float32\n",
        "\n",
        "# Create outfile datasets\n",
        "output_file_band2 = os.path.join('/content/drive/MyDrive/geog371shared/subsets', 'subset_resampled_band2_TOA.tif')\n",
        "output_file_band3 = os.path.join('/content/drive/MyDrive/geog371shared/subsets', 'subset_resampled_band3_TOA.tif')\n",
        "output_file_band4 = os.path.join('/content/drive/MyDrive/geog371shared/subsets', 'subset_resampled_band4_TOA.tif')\n",
        "output_file_band8 = os.path.join('/content/drive/MyDrive/geog371shared/subsets', 'subset_band8_TOA.tif')\n",
        "\n",
        "out_dataset_band2 = driver.Create(output_file_band2, xsize, ysize, 1, gdal_type)\n",
        "out_dataset_band3 = driver.Create(output_file_band3, xsize, ysize, 1, gdal_type)\n",
        "out_dataset_band4 = driver.Create(output_file_band4, xsize, ysize, 1, gdal_type)\n",
        "out_dataset_band8 = driver.Create(output_file_band8, xsize, ysize, 1, gdal_type)\n",
        "# Write the subset data to the output datasets\n",
        "out_dataset_band2.GetRasterBand(1).WriteArray(band2)\n",
        "out_dataset_band3.GetRasterBand(1).WriteArray(band3)\n",
        "out_dataset_band4.GetRasterBand(1).WriteArray(band4)\n",
        "out_dataset_band8.GetRasterBand(1).WriteArray(band8)\n",
        "\n",
        "out_dataset_band2.SetProjection(ds_B2_TOA.GetProjection())\n",
        "out_dataset_band2.SetGeoTransform(ds_B2_TOA.GetGeoTransform())\n",
        "\n",
        "out_dataset_band3.SetProjection(ds_B3_TOA.GetProjection())\n",
        "out_dataset_band3.SetGeoTransform(ds_B3_TOA.GetGeoTransform())\n",
        "\n",
        "out_dataset_band4.SetProjection(ds_B4_TOA.GetProjection())\n",
        "out_dataset_band4.SetGeoTransform(ds_B4_TOA.GetGeoTransform())\n",
        "\n",
        "out_dataset_band8.SetProjection(ds_B8_TOA.GetProjection())\n",
        "out_dataset_band8.SetGeoTransform(ds_B8_TOA.GetGeoTransform())\n",
        "# Close the datasets\n",
        "out_dataset_band2 = None\n",
        "out_dataset_band3 = None\n",
        "out_dataset_band4 = None\n",
        "out_dataset_band8 = None\n",
        "ds_B2_TOA = None\n",
        "ds_B3_TOA = None\n",
        "ds_B4_TOA = None\n",
        "ds_B8_TOA = None"
      ]
    },
    {
      "cell_type": "markdown",
      "metadata": {
        "id": "HGzKQYeLJ_ex"
      },
      "source": [
        "BROVEY TRANSFORM"
      ]
    },
    {
      "cell_type": "code",
      "execution_count": null,
      "metadata": {
        "colab": {
          "base_uri": "https://localhost:8080/"
        },
        "id": "u8CM9-fQYlie",
        "outputId": "526d7faf-6d04-4eba-c660-119d444d8ad3"
      },
      "outputs": [],
      "source": [
        "# Apply Brovey transform to the resampled subsets\n",
        "\n",
        "    # Read the resampled TOA reflectance data\n",
        "ds_B2_TOA = gdal.Open('/content/drive/MyDrive/geog371shared/subsets/subset_resampled_band2_TOA.tif')\n",
        "ds_B3_TOA = gdal.Open('/content/drive/MyDrive/geog371shared/subsets/subset_resampled_band3_TOA.tif')\n",
        "ds_B4_TOA = gdal.Open('/content/drive/MyDrive/geog371shared/subsets/subset_resampled_band4_TOA.tif')\n",
        "ds_B8_TOA = gdal.Open('/content/drive/MyDrive/geog371shared/subsets/subset_band8_TOA.tif')\n",
        "\n",
        "    # Read the subset data\n",
        "band2 = ds_B2_TOA.GetRasterBand(1).ReadAsArray().astype(np.float32)\n",
        "band3 = ds_B3_TOA.GetRasterBand(1).ReadAsArray().astype(np.float32)\n",
        "band4 = ds_B4_TOA.GetRasterBand(1).ReadAsArray().astype(np.float32)\n",
        "band8 = ds_B8_TOA.GetRasterBand(1).ReadAsArray().astype(np.float32)\n",
        "print(band2.shape)\n",
        "print(band3.shape)\n",
        "print(band4.shape)\n",
        "print(band8.shape)\n",
        "\n",
        "    # Perform Brovey transformation\n",
        "sum_bands = band2 + band3 + band4\n",
        "red_new = band8 * (band4 / sum_bands)\n",
        "green_new = band8 * (band3 / sum_bands)\n",
        "blue_new = band8 * (band2 / sum_bands)\n",
        "\n",
        "    # Create outfile driver\n",
        "driver = gdal.GetDriverByName('GTiff')\n",
        "    # Declare outfile parameters\n",
        "xsize = x_size\n",
        "ysize = y_size\n",
        "gdal_type = gdal.GDT_Float32\n",
        "    # Create outfile dataset\n",
        "output_file = os.path.join('/content/drive/MyDrive/geog371shared/brovey_output', 'pansharpened_brovey_subset.tif')\n",
        "out_dataset = driver.Create(output_file, xsize, ysize, 3, gdal_type)\n",
        "    # Set outfile metadata from original infile metadata\n",
        "out_dataset.SetGeoTransform(ds_B2_TOA.GetGeoTransform())\n",
        "out_dataset.SetProjection(ds_B2_TOA.GetProjection())\n",
        "    # Write Arrays\n",
        "out_dataset.GetRasterBand(1).WriteArray(blue_new)\n",
        "out_dataset.GetRasterBand(2).WriteArray(green_new)\n",
        "out_dataset.GetRasterBand(3).WriteArray(red_new)\n",
        "    # Close dataset and finish writing\n",
        "out_dataset = None\n",
        "\n",
        "    # Plot the Brovey transformed image\n",
        "    #brovey_image = np.stack((blue_new, green_new, red_new), axis=2)\n",
        "    #plt.figure(figsize=(10, 10))\n",
        "    #plt.imshow(brovey_image.astype(np.uint8))\n",
        "    #plt.title('Brovey Transform of Subset')\n",
        "    #plt.show()\n"
      ]
    },
    {
      "cell_type": "markdown",
      "metadata": {
        "id": "C7f4HLZ10pM4"
      },
      "source": [
        "PCA"
      ]
    },
    {
      "cell_type": "code",
      "execution_count": null,
      "metadata": {
        "colab": {
          "base_uri": "https://localhost:8080/",
          "height": 391
        },
        "id": "0e2ruHBANHT5",
        "outputId": "d48e3afd-7c19-4138-bf69-154d7d33dd69"
      },
      "outputs": [],
      "source": [
        "from osgeo import gdal\n",
        "import numpy as np\n",
        "from sklearn.decomposition import PCA\n",
        "import os\n",
        "\n",
        "# Read the resampled TOA reflectance data\n",
        "ds_B2_TOA = gdal.Open('/content/drive/MyDrive/geog371shared/subsets/subset_resampled_band2_TOA.tif')\n",
        "ds_B3_TOA = gdal.Open('/content/drive/MyDrive/geog371shared/subsets/subset_resampled_band3_TOA.tif')\n",
        "ds_B4_TOA = gdal.Open('/content/drive/MyDrive/geog371shared/subsets/subset_resampled_band4_TOA.tif')\n",
        "ds_B8_TOA = gdal.Open('/content/drive/MyDrive/geog371shared/subsets/subset_band8_TOA.tif')\n",
        "\n",
        "# Read the subset data\n",
        "band2 = ds_B2_TOA.GetRasterBand(1).ReadAsArray().astype(np.float32)\n",
        "band3 = ds_B3_TOA.GetRasterBand(1).ReadAsArray().astype(np.float32)\n",
        "band4 = ds_B4_TOA.GetRasterBand(1).ReadAsArray().astype(np.float32)\n",
        "band8 = ds_B8_TOA.GetRasterBand(1).ReadAsArray().astype(np.float32)\n",
        "\n",
        "# Stack bands 2, 3, and 4 into a single array for PCA (3D)\n",
        "stacked_bands = np.dstack((band2, band3, band4))\n",
        "\n",
        "# Reshape the stacked array to 2D (pixels, bands), -1 to maintain a homogenous shape\n",
        "reshaped_bands = stacked_bands.reshape(-1, 3)\n",
        "\n",
        "# Apply PCA to the reshaped array\n",
        "pca = PCA(n_components=3)\n",
        "# pca_result represents the 3 principal components\n",
        "pca_result = pca.fit_transform(reshaped_bands)\n",
        "\n",
        "# Reshape the PCA result back to the original image shape\n",
        "pca_bands = pca_result.reshape(band2.shape[0], band2.shape[1], 3)\n",
        "\n",
        "# Extract the first principal component (PC1) and replace it with the high-resolution panchromatic band (band8)\n",
        "# Since PC1 captures the most significance variance in the data\n",
        "pca_bands[:, :, 0] = band8\n",
        "\n",
        "# Perform inverse PCA to reconstruct the pansharpened image\n",
        "inverse_pca_result = pca.inverse_transform(pca_bands.reshape(-1, 3))\n",
        "pansharpened_image = inverse_pca_result.reshape(band2.shape[0], band2.shape[1], 3)\n",
        "\n",
        "# Split the pansharpened image into individual bands\n",
        "red_new = pansharpened_image[:, :, 0]\n",
        "green_new = pansharpened_image[:, :, 1]\n",
        "blue_new = pansharpened_image[:, :, 2]\n",
        "\n",
        "# Create outfile driver\n",
        "driver = gdal.GetDriverByName('GTiff')\n",
        "\n",
        "# Declare outfile parameters\n",
        "xsize = band2.shape[1]\n",
        "ysize = band2.shape[0]\n",
        "gdal_type = gdal.GDT_Float32\n",
        "\n",
        "# Create outfile dataset\n",
        "output_file = os.path.join('/content/drive/MyDrive/geog371shared/pca_output', 'pansharpened_pca_subset.tif')\n",
        "out_dataset = driver.Create(output_file, xsize, ysize, 3, gdal_type)\n",
        "\n",
        "# Set outfile metadata from original infile metadata\n",
        "out_dataset.SetGeoTransform(ds_B2_TOA.GetGeoTransform())\n",
        "out_dataset.SetProjection(ds_B2_TOA.GetProjection())\n",
        "\n",
        "# Write Arrays\n",
        "out_dataset.GetRasterBand(1).WriteArray(blue_new)\n",
        "out_dataset.GetRasterBand(2).WriteArray(green_new)\n",
        "out_dataset.GetRasterBand(3).WriteArray(red_new)\n",
        "\n",
        "# Close dataset and finish writing\n",
        "out_dataset = None\n",
        "\n",
        "print(\"PCA pansharpening complete!\")"
      ]
    },
    {
      "cell_type": "code",
      "execution_count": null,
      "metadata": {
        "colab": {
          "base_uri": "https://localhost:8080/",
          "height": 1000
        },
        "id": "FZT9_wgPIpyu",
        "outputId": "3932f985-5186-404c-9654-1512602575cd"
      },
      "outputs": [],
      "source": [
        "# Read the resampled TOA reflectance data\n",
        "ds_B2_TOA = gdal.Open('/content/drive/MyDrive/geog371shared/subsets/subset_resampled_band2_TOA.tif')\n",
        "ds_B3_TOA = gdal.Open('/content/drive/MyDrive/geog371shared/subsets/subset_resampled_band3_TOA.tif')\n",
        "ds_B4_TOA = gdal.Open('/content/drive/MyDrive/geog371shared/subsets/subset_resampled_band4_TOA.tif')\n",
        "ds_pansharpened_brovey = gdal.Open('/content/drive/MyDrive/geog371shared/brovey_output/pansharpened_brovey_subset.tif')\n",
        "ds_pansharpened_pca = gdal.Open('/content/drive/MyDrive/geog371shared/pca_output/pansharpened_pca_subset.tif')\n",
        "\n",
        "# Access the pansharpened rgb bands\n",
        "pansharpened_brovey_red = ds_pansharpened_brovey.GetRasterBand(3).ReadAsArray().astype(np.float32)\n",
        "pansharpened_brovey_green = ds_pansharpened_brovey.GetRasterBand(2).ReadAsArray().astype(np.float32)\n",
        "pansharpened_brovey_blue = ds_pansharpened_brovey.GetRasterBand(1).ReadAsArray().astype(np.float32)\n",
        "\n",
        "pansharpened_pca_red = ds_pansharpened_pca.GetRasterBand(3).ReadAsArray().astype(np.float32)\n",
        "pansharpened_pca_green = ds_pansharpened_pca.GetRasterBand(2).ReadAsArray().astype(np.float32)\n",
        "pansharpened_pca_blue = ds_pansharpened_pca.GetRasterBand(1).ReadAsArray().astype(np.float32)\n",
        "\n",
        "# Normalize the bands using min max scaling to make sure that we are comparing the images the same way\n",
        "band2_norm = (band2 - band2.min()) / (band2.max() - band2.min())\n",
        "band3_norm = (band3 - band3.min()) / (band3.max() - band3.min())\n",
        "band4_norm = (band4 - band4.min()) / (band4.max() - band4.min())\n",
        "pansharpened_brovey_red_norm = (pansharpened_brovey_red - pansharpened_brovey_red.min()) / (pansharpened_brovey_red.max() - pansharpened_brovey_red.min())\n",
        "pansharpened_brovey_green_norm = (pansharpened_brovey_green - pansharpened_brovey_green.min()) / (pansharpened_brovey_green.max() - pansharpened_brovey_green.min())\n",
        "pansharpened_brovey_blue_norm = (pansharpened_brovey_blue - pansharpened_brovey_blue.min()) / (pansharpened_brovey_blue.max() - pansharpened_brovey_blue.min())\n",
        "pansharpened_pca_red_norm = (pansharpened_pca_red - pansharpened_pca_red.min()) / (pansharpened_pca_red.max() - pansharpened_pca_red.min())\n",
        "pansharpened_pca_green_norm = (pansharpened_pca_green - pansharpened_pca_green.min()) / (pansharpened_pca_green.max() - pansharpened_pca_green.min())\n",
        "pansharpened_pca_blue_norm = (pansharpened_pca_blue - pansharpened_pca_blue.min()) / (pansharpened_pca_blue.max() - pansharpened_pca_blue.min())\n",
        "\n",
        "# Create RGB images for original and pansharpened images\n",
        "original_rgb = np.dstack((band4_norm, band3_norm, band2_norm))\n",
        "pansharpened_brovey = np.dstack((pansharpened_brovey_red_norm, pansharpened_brovey_green_norm, pansharpened_brovey_blue_norm))\n",
        "pansharpened_pca = np.dstack((pansharpened_pca_red_norm, pansharpened_pca_green_norm, pansharpened_pca_blue_norm))\n",
        "\n",
        "# Compare\n",
        "# Original vs Brovey\n",
        "fig, axes = plt.subplots(1, 2, figsize=(15, 15))\n",
        "\n",
        "axes[0].imshow(original_rgb)\n",
        "axes[0].set_title('Original Image')\n",
        "\n",
        "axes[1].imshow(pansharpened_brovey)\n",
        "axes[1].set_title('Brovey Pansharpened Image')\n",
        "\n",
        "plt.show()\n",
        "\n",
        "# Original vs PCA\n",
        "fig, axes = plt.subplots(1, 2, figsize=(15, 15))\n",
        "\n",
        "axes[0].imshow(original_rgb)\n",
        "axes[0].set_title('Original Image')\n",
        "\n",
        "axes[1].imshow(pansharpened_pca)\n",
        "axes[1].set_title('PCA Pansharpened Image')\n",
        "\n",
        "plt.show()\n",
        "\n",
        "# Brovey vs PCA\n",
        "fig, axes = plt.subplots(1, 2, figsize=(15, 15))\n",
        "\n",
        "axes[0].imshow(pansharpened_brovey)\n",
        "axes[0].set_title('Brovey Pansharpened Image')\n",
        "\n",
        "axes[1].imshow(pansharpened_pca)\n",
        "axes[1].set_title('PCA Pansharpened Image')\n",
        "\n",
        "plt.show()"
      ]
    },
    {
      "cell_type": "code",
      "execution_count": null,
      "metadata": {
        "colab": {
          "base_uri": "https://localhost:8080/",
          "height": 528
        },
        "id": "2FX0xv_f4pI1",
        "outputId": "2c738b7f-908a-4389-bab9-7a06e3f90813"
      },
      "outputs": [],
      "source": [
        "fig, ax = plt.subplots(layout='constrained', figsize=(5, 5))\n",
        "pcm = ax.pcolormesh(pansharpened_brovey, cmap='gray', vmax=1000000)\n",
        "plt.show()"
      ]
    }
  ],
  "metadata": {
    "colab": {
      "provenance": []
    },
    "kernelspec": {
      "display_name": "Python 3",
      "name": "python3"
    },
    "language_info": {
      "name": "python"
    }
  },
  "nbformat": 4,
  "nbformat_minor": 0
}
